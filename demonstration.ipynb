{
 "cells": [
  {
   "cell_type": "code",
   "execution_count": 13,
   "metadata": {},
   "outputs": [],
   "source": [
    "import pandas as pd\n",
    "import os\n",
    "\n",
    "def generate_buggy_file(n_rows, fname=\"tmp.csv\", **extend_read_csv):\n",
    "    with open(fname, \"wt\") as tmp_csv:\n",
    "        tmp_csv.write(\"test;\\n\") # column header\n",
    "        tmp_csv.write(\"True;\\n\") # write exactly one 'True'\n",
    "        for i in range(n_rows):\n",
    "            tmp_csv.write(\";\\n\")\n",
    "            \n",
    "    print(\"tmp.csv - size (KB):\", os.path.getsize(\"tmp.csv\") / 1000)\n",
    "    return pd.read_csv('tmp.csv', sep=\";\", **extend_read_csv)"
   ]
  },
  {
   "cell_type": "code",
   "execution_count": 14,
   "metadata": {},
   "outputs": [
    {
     "name": "stdout",
     "output_type": "stream",
     "text": [
      "tmp.csv - size (KB): 786.446\n"
     ]
    },
    {
     "data": {
      "text/plain": [
       "0         1.0\n",
       "1         NaN\n",
       "2         NaN\n",
       "3         NaN\n",
       "4         NaN\n",
       "         ... \n",
       "262140    NaN\n",
       "262141    NaN\n",
       "262142    NaN\n",
       "262143    NaN\n",
       "262144    NaN\n",
       "Name: test, Length: 262145, dtype: float64"
      ]
     },
     "execution_count": 14,
     "metadata": {},
     "output_type": "execute_result"
    }
   ],
   "source": [
    "generate_buggy_file(2**18, fname='tmp1.csv', dtype={\"test\": \"float\"}, engine='python').test"
   ]
  },
  {
   "cell_type": "code",
   "execution_count": 15,
   "metadata": {},
   "outputs": [
    {
     "name": "stdout",
     "output_type": "stream",
     "text": [
      "tmp.csv - size (KB): 786.446\n"
     ]
    },
    {
     "data": {
      "text/plain": [
       "0         1.0\n",
       "1         1.0\n",
       "2         1.0\n",
       "3         1.0\n",
       "4         1.0\n",
       "         ... \n",
       "262140    1.0\n",
       "262141    1.0\n",
       "262142    1.0\n",
       "262143    1.0\n",
       "262144    NaN\n",
       "Name: test, Length: 262145, dtype: float64"
      ]
     },
     "execution_count": 15,
     "metadata": {},
     "output_type": "execute_result"
    }
   ],
   "source": [
    "generate_buggy_file(2**18, fname='tmp2.csv', dtype={\"test\": \"float\"}).test"
   ]
  }
 ],
 "metadata": {
  "kernelspec": {
   "display_name": "Python 3.7.5 64-bit ('base': conda)",
   "language": "python",
   "name": "python37564bitbasecondadd86f466f608468b9363e8c7a4e0280c"
  },
  "language_info": {
   "codemirror_mode": {
    "name": "ipython",
    "version": 3
   },
   "file_extension": ".py",
   "mimetype": "text/x-python",
   "name": "python",
   "nbconvert_exporter": "python",
   "pygments_lexer": "ipython3",
   "version": "3.8.5"
  }
 },
 "nbformat": 4,
 "nbformat_minor": 4
}
